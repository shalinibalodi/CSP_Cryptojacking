{
 "cells": [
  {
   "cell_type": "code",
   "execution_count": 2,
   "metadata": {},
   "outputs": [],
   "source": [
    "import tensorflow as tf\n",
    "from tensorflow import keras\n"
   ]
  },
  {
   "attachments": {},
   "cell_type": "markdown",
   "metadata": {},
   "source": [
    "Defining the CNN model"
   ]
  },
  {
   "cell_type": "code",
   "execution_count": null,
   "metadata": {},
   "outputs": [],
   "source": [
    "model = keras.Sequential([ # Convolutional layer with 32 filters, 3x3 kernel size, and ReLU activation \n",
    "    keras.layers.Conv2D(32, (3, 3), activation='relu', input_shape=(224, 224, 3)), # Max pooling layer with 2x2 pool size \n",
    "    keras.layers.MaxPooling2D((2, 2)), # Convolutional layer with 64 filters, 3x3 kernel size, and ReLU activation \n",
    "    keras.layers.Conv2D(64, (3, 3), activation='relu'), # Max pooling layer with 2x2 pool size \n",
    "    keras.layers.MaxPooling2D((2, 2)), # Convolutional layer with 128 filters, 3x3 kernel size, and ReLU activation \n",
    "    keras.layers.Conv2D(128, (3, 3), activation='relu'), # Max pooling layer with 2x2 pool size \n",
    "    keras.layers.MaxPooling2D((2, 2)), # Flatten layer to convert 3D feature maps to 1D feature vectors \n",
    "    keras.layers.Flatten(), # Fully connected layer with 512 units and ReLU activation \n",
    "    keras.layers.Dense(512, activation='relu'), # Dropout layer to prevent overfitting \n",
    "    keras.layers.Dropout(0.5), # Output layer with 2 units and softmax activation for binary classification \n",
    "    keras.layers.Dense(2, activation='softmax') ])"
   ]
  },
  {
   "attachments": {},
   "cell_type": "markdown",
   "metadata": {},
   "source": [
    "Compiling the model with RMSprop optimizer and categorical crossentropy loss function"
   ]
  },
  {
   "cell_type": "code",
   "execution_count": null,
   "metadata": {},
   "outputs": [],
   "source": [
    "optimizer = tf.keras.optimizers.RMSprop(lr=0.0001)\n",
    "model.compile(optimizer=optimizer, loss='binary_crossentropy', metrics=['accuracy'])#Using categorical cross entropy because it is a multiclass classification where a sample can belong to a single class 0(benign) or 1(malicious)"
   ]
  },
  {
   "attachments": {},
   "cell_type": "markdown",
   "metadata": {},
   "source": [
    "Training the model"
   ]
  },
  {
   "cell_type": "code",
   "execution_count": null,
   "metadata": {},
   "outputs": [],
   "source": [
    "model.fit(train_dataset, epochs=100)"
   ]
  },
  {
   "attachments": {},
   "cell_type": "markdown",
   "metadata": {},
   "source": [
    "Prediction of Wasm_images into benign or malicious classes"
   ]
  },
  {
   "cell_type": "code",
   "execution_count": null,
   "metadata": {},
   "outputs": [],
   "source": [
    "Y_pred = model.predict(test_dataset)\n",
    "test_loss, test_acc = model.evaluate(test_dataset) \n",
    "print('Test accuracy:', test_acc)"
   ]
  }
 ],
 "metadata": {
  "kernelspec": {
   "display_name": "Python 3",
   "language": "python",
   "name": "python3"
  },
  "language_info": {
   "codemirror_mode": {
    "name": "ipython",
    "version": 3
   },
   "file_extension": ".py",
   "mimetype": "text/x-python",
   "name": "python",
   "nbconvert_exporter": "python",
   "pygments_lexer": "ipython3",
   "version": "3.10.0"
  },
  "orig_nbformat": 4
 },
 "nbformat": 4,
 "nbformat_minor": 2
}
